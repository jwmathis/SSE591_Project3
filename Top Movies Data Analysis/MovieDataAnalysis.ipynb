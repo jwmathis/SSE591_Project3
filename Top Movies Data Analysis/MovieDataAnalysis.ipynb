{
 "cells": [
  {
   "cell_type": "markdown",
   "metadata": {},
   "source": [
    "## Analyzing a Movie Dataset"
   ]
  },
  {
   "cell_type": "markdown",
   "metadata": {},
   "source": [
    "### Getting general information about the dataset"
   ]
  },
  {
   "cell_type": "code",
   "execution_count": 132,
   "metadata": {},
   "outputs": [
    {
     "data": {
      "text/html": [
       "<div>\n",
       "<style scoped>\n",
       "    .dataframe tbody tr th:only-of-type {\n",
       "        vertical-align: middle;\n",
       "    }\n",
       "\n",
       "    .dataframe tbody tr th {\n",
       "        vertical-align: top;\n",
       "    }\n",
       "\n",
       "    .dataframe thead th {\n",
       "        text-align: right;\n",
       "    }\n",
       "</style>\n",
       "<table border=\"1\" class=\"dataframe\">\n",
       "  <thead>\n",
       "    <tr style=\"text-align: right;\">\n",
       "      <th></th>\n",
       "      <th>Poster_Link</th>\n",
       "      <th>Series_Title</th>\n",
       "      <th>Released_Year</th>\n",
       "      <th>Certificate</th>\n",
       "      <th>Runtime</th>\n",
       "      <th>Genre</th>\n",
       "      <th>IMDB_Rating</th>\n",
       "      <th>Overview</th>\n",
       "      <th>Meta_score</th>\n",
       "      <th>Director</th>\n",
       "      <th>Star1</th>\n",
       "      <th>Star2</th>\n",
       "      <th>Star3</th>\n",
       "      <th>Star4</th>\n",
       "      <th>No_of_Votes</th>\n",
       "      <th>Gross</th>\n",
       "    </tr>\n",
       "  </thead>\n",
       "  <tbody>\n",
       "    <tr>\n",
       "      <th>0</th>\n",
       "      <td>https://m.media-amazon.com/images/M/MV5BMDFkYT...</td>\n",
       "      <td>The Shawshank Redemption</td>\n",
       "      <td>1994</td>\n",
       "      <td>A</td>\n",
       "      <td>142 min</td>\n",
       "      <td>Drama</td>\n",
       "      <td>9.3</td>\n",
       "      <td>Two imprisoned men bond over a number of years...</td>\n",
       "      <td>80.0</td>\n",
       "      <td>Frank Darabont</td>\n",
       "      <td>Tim Robbins</td>\n",
       "      <td>Morgan Freeman</td>\n",
       "      <td>Bob Gunton</td>\n",
       "      <td>William Sadler</td>\n",
       "      <td>2343110</td>\n",
       "      <td>28,341,469</td>\n",
       "    </tr>\n",
       "    <tr>\n",
       "      <th>1</th>\n",
       "      <td>https://m.media-amazon.com/images/M/MV5BM2MyNj...</td>\n",
       "      <td>The Godfather</td>\n",
       "      <td>1972</td>\n",
       "      <td>A</td>\n",
       "      <td>175 min</td>\n",
       "      <td>Crime, Drama</td>\n",
       "      <td>9.2</td>\n",
       "      <td>An organized crime dynasty's aging patriarch t...</td>\n",
       "      <td>100.0</td>\n",
       "      <td>Francis Ford Coppola</td>\n",
       "      <td>Marlon Brando</td>\n",
       "      <td>Al Pacino</td>\n",
       "      <td>James Caan</td>\n",
       "      <td>Diane Keaton</td>\n",
       "      <td>1620367</td>\n",
       "      <td>134,966,411</td>\n",
       "    </tr>\n",
       "    <tr>\n",
       "      <th>2</th>\n",
       "      <td>https://m.media-amazon.com/images/M/MV5BMTMxNT...</td>\n",
       "      <td>The Dark Knight</td>\n",
       "      <td>2008</td>\n",
       "      <td>UA</td>\n",
       "      <td>152 min</td>\n",
       "      <td>Action, Crime, Drama</td>\n",
       "      <td>9.0</td>\n",
       "      <td>When the menace known as the Joker wreaks havo...</td>\n",
       "      <td>84.0</td>\n",
       "      <td>Christopher Nolan</td>\n",
       "      <td>Christian Bale</td>\n",
       "      <td>Heath Ledger</td>\n",
       "      <td>Aaron Eckhart</td>\n",
       "      <td>Michael Caine</td>\n",
       "      <td>2303232</td>\n",
       "      <td>534,858,444</td>\n",
       "    </tr>\n",
       "    <tr>\n",
       "      <th>3</th>\n",
       "      <td>https://m.media-amazon.com/images/M/MV5BMWMwMG...</td>\n",
       "      <td>The Godfather: Part II</td>\n",
       "      <td>1974</td>\n",
       "      <td>A</td>\n",
       "      <td>202 min</td>\n",
       "      <td>Crime, Drama</td>\n",
       "      <td>9.0</td>\n",
       "      <td>The early life and career of Vito Corleone in ...</td>\n",
       "      <td>90.0</td>\n",
       "      <td>Francis Ford Coppola</td>\n",
       "      <td>Al Pacino</td>\n",
       "      <td>Robert De Niro</td>\n",
       "      <td>Robert Duvall</td>\n",
       "      <td>Diane Keaton</td>\n",
       "      <td>1129952</td>\n",
       "      <td>57,300,000</td>\n",
       "    </tr>\n",
       "    <tr>\n",
       "      <th>4</th>\n",
       "      <td>https://m.media-amazon.com/images/M/MV5BMWU4N2...</td>\n",
       "      <td>12 Angry Men</td>\n",
       "      <td>1957</td>\n",
       "      <td>U</td>\n",
       "      <td>96 min</td>\n",
       "      <td>Crime, Drama</td>\n",
       "      <td>9.0</td>\n",
       "      <td>A jury holdout attempts to prevent a miscarria...</td>\n",
       "      <td>96.0</td>\n",
       "      <td>Sidney Lumet</td>\n",
       "      <td>Henry Fonda</td>\n",
       "      <td>Lee J. Cobb</td>\n",
       "      <td>Martin Balsam</td>\n",
       "      <td>John Fiedler</td>\n",
       "      <td>689845</td>\n",
       "      <td>4,360,000</td>\n",
       "    </tr>\n",
       "  </tbody>\n",
       "</table>\n",
       "</div>"
      ],
      "text/plain": [
       "                                         Poster_Link  \\\n",
       "0  https://m.media-amazon.com/images/M/MV5BMDFkYT...   \n",
       "1  https://m.media-amazon.com/images/M/MV5BM2MyNj...   \n",
       "2  https://m.media-amazon.com/images/M/MV5BMTMxNT...   \n",
       "3  https://m.media-amazon.com/images/M/MV5BMWMwMG...   \n",
       "4  https://m.media-amazon.com/images/M/MV5BMWU4N2...   \n",
       "\n",
       "               Series_Title Released_Year Certificate  Runtime  \\\n",
       "0  The Shawshank Redemption          1994           A  142 min   \n",
       "1             The Godfather          1972           A  175 min   \n",
       "2           The Dark Knight          2008          UA  152 min   \n",
       "3    The Godfather: Part II          1974           A  202 min   \n",
       "4              12 Angry Men          1957           U   96 min   \n",
       "\n",
       "                  Genre  IMDB_Rating  \\\n",
       "0                 Drama          9.3   \n",
       "1          Crime, Drama          9.2   \n",
       "2  Action, Crime, Drama          9.0   \n",
       "3          Crime, Drama          9.0   \n",
       "4          Crime, Drama          9.0   \n",
       "\n",
       "                                            Overview  Meta_score  \\\n",
       "0  Two imprisoned men bond over a number of years...        80.0   \n",
       "1  An organized crime dynasty's aging patriarch t...       100.0   \n",
       "2  When the menace known as the Joker wreaks havo...        84.0   \n",
       "3  The early life and career of Vito Corleone in ...        90.0   \n",
       "4  A jury holdout attempts to prevent a miscarria...        96.0   \n",
       "\n",
       "               Director           Star1           Star2          Star3  \\\n",
       "0        Frank Darabont     Tim Robbins  Morgan Freeman     Bob Gunton   \n",
       "1  Francis Ford Coppola   Marlon Brando       Al Pacino     James Caan   \n",
       "2     Christopher Nolan  Christian Bale    Heath Ledger  Aaron Eckhart   \n",
       "3  Francis Ford Coppola       Al Pacino  Robert De Niro  Robert Duvall   \n",
       "4          Sidney Lumet     Henry Fonda     Lee J. Cobb  Martin Balsam   \n",
       "\n",
       "            Star4  No_of_Votes        Gross  \n",
       "0  William Sadler      2343110   28,341,469  \n",
       "1    Diane Keaton      1620367  134,966,411  \n",
       "2   Michael Caine      2303232  534,858,444  \n",
       "3    Diane Keaton      1129952   57,300,000  \n",
       "4    John Fiedler       689845    4,360,000  "
      ]
     },
     "execution_count": 132,
     "metadata": {},
     "output_type": "execute_result"
    }
   ],
   "source": [
    "# Loading the dataset\n",
    "import pandas as pd\n",
    "import numpy as np\n",
    "\n",
    "movies_df = pd.read_csv(\"imdb_top_1000.csv\")\n",
    "\n",
    "# Print first few rows of the dataset\n",
    "movies_df.head()\n",
    "\n"
   ]
  },
  {
   "cell_type": "code",
   "execution_count": null,
   "metadata": {},
   "outputs": [],
   "source": [
    "# Get general information about the dataframe\n",
    "movies_df.info()"
   ]
  },
  {
   "cell_type": "code",
   "execution_count": null,
   "metadata": {},
   "outputs": [],
   "source": [
    "# Summary statistics of numerical columns\n",
    "movies_df.describe()\n",
    "# for this dataset, it doesn't tell me too much"
   ]
  },
  {
   "cell_type": "code",
   "execution_count": null,
   "metadata": {},
   "outputs": [],
   "source": [
    "movies_df.set_index('Series_Title', inplace=True) # Change index to be Title column\n",
    "movies_df.head(4)"
   ]
  },
  {
   "cell_type": "code",
   "execution_count": null,
   "metadata": {},
   "outputs": [],
   "source": [
    "movies_df.tail(10)"
   ]
  },
  {
   "cell_type": "code",
   "execution_count": null,
   "metadata": {},
   "outputs": [],
   "source": [
    "# Add a 'Rank' column\n",
    "movies_df['Rank'] = range(1, len(movies_df) + 1)\n",
    "movies_df.info()"
   ]
  },
  {
   "cell_type": "markdown",
   "metadata": {},
   "source": [
    "### Cleaning up the dataset\n",
    "* adding columns before analysis\n",
    "* removing rows\n",
    "* cleaning up strings\n",
    "* converting data types"
   ]
  },
  {
   "cell_type": "code",
   "execution_count": null,
   "metadata": {},
   "outputs": [],
   "source": [
    "# get list of column names\n",
    "new_columns = list(movies_df.columns)\n",
    "# remove the 'Rank' column from the list\n",
    "new_columns.remove('Rank')\n",
    "# insert 'Rank' column at specified index\n",
    "new_columns.insert(0, 'Rank')\n",
    "# Reorder the DataFrame Columns\n",
    "movies_df = movies_df[new_columns]\n",
    "# Check DataFrame info\n",
    "movies_df.info()"
   ]
  },
  {
   "cell_type": "code",
   "execution_count": null,
   "metadata": {},
   "outputs": [],
   "source": [
    "# Sorting the data by ratings\n",
    "movies_df = movies_df.sort_values(by='IMDB_Rating', ascending=False)\n",
    "\n",
    "movies_df.reset_index(inplace=True)\n",
    "\n",
    "movies_df.set_index('Rank', inplace=True)\n",
    "\n",
    "movies_df"
   ]
  },
  {
   "cell_type": "code",
   "execution_count": 126,
   "metadata": {},
   "outputs": [
    {
     "data": {
      "text/plain": [
       "(1000, 17)"
      ]
     },
     "execution_count": 126,
     "metadata": {},
     "output_type": "execute_result"
    }
   ],
   "source": [
    "# find the row by column\n",
    "movies_df.shape"
   ]
  },
  {
   "cell_type": "code",
   "execution_count": 127,
   "metadata": {},
   "outputs": [
    {
     "data": {
      "text/plain": [
       "17000"
      ]
     },
     "execution_count": 127,
     "metadata": {},
     "output_type": "execute_result"
    }
   ],
   "source": [
    "movies_df.size"
   ]
  },
  {
   "cell_type": "code",
   "execution_count": null,
   "metadata": {},
   "outputs": [],
   "source": [
    "movies_df.sort_index().head()"
   ]
  },
  {
   "cell_type": "code",
   "execution_count": null,
   "metadata": {},
   "outputs": [],
   "source": [
    "# Handling missing data\n",
    "print(movies_df.isnull().sum())"
   ]
  },
  {
   "cell_type": "code",
   "execution_count": null,
   "metadata": {},
   "outputs": [],
   "source": [
    "#movies_df.fillna(0)\n",
    "#print(movies_df.isna().sum())\n",
    "#lets remove rows with null data\n",
    "movies_df_clean = movies_df.dropna()\n",
    "movies_df_clean.info()"
   ]
  },
  {
   "cell_type": "code",
   "execution_count": null,
   "metadata": {},
   "outputs": [],
   "source": [
    "# determine if there is any duplicated data\n",
    "sum(movies_df.duplicated())"
   ]
  },
  {
   "cell_type": "code",
   "execution_count": null,
   "metadata": {},
   "outputs": [],
   "source": [
    "# convert gross to numeric type coerce errors to NaN for non numeric values\n",
    "movies_df_clean['Gross'] = pd.to_numeric(movies_df_clean['Gross'], errors='coerce')\n",
    "movies_df_clean.info()"
   ]
  },
  {
   "cell_type": "code",
   "execution_count": null,
   "metadata": {},
   "outputs": [],
   "source": [
    "movies_df_clean['Runtime'] = movies_df_clean['Runtime'].str.replace(' min', '')\n",
    "# Convert the 'Runtime' column to numeric type\n",
    "movies_df_clean['Runtime'] = pd.to_numeric(movies_df_clean['Runtime'], errors='coerce')\n",
    "movies_df_clean.head()"
   ]
  },
  {
   "cell_type": "code",
   "execution_count": null,
   "metadata": {},
   "outputs": [],
   "source": [
    "print(movies_df_clean['Runtime'].dtype) # checking runtime datatype"
   ]
  },
  {
   "cell_type": "code",
   "execution_count": null,
   "metadata": {},
   "outputs": [],
   "source": [
    "# drop rows with missing gross data\n",
    "movies_df.dropna(subset=['Gross'], inplace=True)\n",
    "movies_df"
   ]
  },
  {
   "cell_type": "code",
   "execution_count": null,
   "metadata": {},
   "outputs": [],
   "source": [
    "movies_df['Released_Year'] = pd.to_datetime(movies_df['Released_Year'])\n",
    "movies_df.head()\n",
    "# doesnt work because dont have the full date only the year"
   ]
  },
  {
   "cell_type": "code",
   "execution_count": 133,
   "metadata": {},
   "outputs": [
    {
     "data": {
      "text/html": [
       "<div>\n",
       "<style scoped>\n",
       "    .dataframe tbody tr th:only-of-type {\n",
       "        vertical-align: middle;\n",
       "    }\n",
       "\n",
       "    .dataframe tbody tr th {\n",
       "        vertical-align: top;\n",
       "    }\n",
       "\n",
       "    .dataframe thead th {\n",
       "        text-align: right;\n",
       "    }\n",
       "</style>\n",
       "<table border=\"1\" class=\"dataframe\">\n",
       "  <thead>\n",
       "    <tr style=\"text-align: right;\">\n",
       "      <th></th>\n",
       "      <th>Poster_Link</th>\n",
       "      <th>Series_Title</th>\n",
       "      <th>Released_Year</th>\n",
       "      <th>Certificate</th>\n",
       "      <th>Runtime</th>\n",
       "      <th>Genre</th>\n",
       "      <th>IMDB_Rating</th>\n",
       "      <th>Overview</th>\n",
       "      <th>Meta_score</th>\n",
       "      <th>Director</th>\n",
       "      <th>Star1</th>\n",
       "      <th>Star2</th>\n",
       "      <th>Star3</th>\n",
       "      <th>Star4</th>\n",
       "      <th>No_of_Votes</th>\n",
       "      <th>Gross</th>\n",
       "    </tr>\n",
       "  </thead>\n",
       "  <tbody>\n",
       "    <tr>\n",
       "      <th>0</th>\n",
       "      <td>https://m.media-amazon.com/images/M/MV5BMDFkYT...</td>\n",
       "      <td>The Shawshank Redemption</td>\n",
       "      <td>1994-01-01</td>\n",
       "      <td>A</td>\n",
       "      <td>142 min</td>\n",
       "      <td>Drama</td>\n",
       "      <td>9.3</td>\n",
       "      <td>Two imprisoned men bond over a number of years...</td>\n",
       "      <td>80.0</td>\n",
       "      <td>Frank Darabont</td>\n",
       "      <td>Tim Robbins</td>\n",
       "      <td>Morgan Freeman</td>\n",
       "      <td>Bob Gunton</td>\n",
       "      <td>William Sadler</td>\n",
       "      <td>2343110</td>\n",
       "      <td>28,341,469</td>\n",
       "    </tr>\n",
       "    <tr>\n",
       "      <th>1</th>\n",
       "      <td>https://m.media-amazon.com/images/M/MV5BM2MyNj...</td>\n",
       "      <td>The Godfather</td>\n",
       "      <td>1972-01-01</td>\n",
       "      <td>A</td>\n",
       "      <td>175 min</td>\n",
       "      <td>Crime, Drama</td>\n",
       "      <td>9.2</td>\n",
       "      <td>An organized crime dynasty's aging patriarch t...</td>\n",
       "      <td>100.0</td>\n",
       "      <td>Francis Ford Coppola</td>\n",
       "      <td>Marlon Brando</td>\n",
       "      <td>Al Pacino</td>\n",
       "      <td>James Caan</td>\n",
       "      <td>Diane Keaton</td>\n",
       "      <td>1620367</td>\n",
       "      <td>134,966,411</td>\n",
       "    </tr>\n",
       "    <tr>\n",
       "      <th>2</th>\n",
       "      <td>https://m.media-amazon.com/images/M/MV5BMTMxNT...</td>\n",
       "      <td>The Dark Knight</td>\n",
       "      <td>2008-01-01</td>\n",
       "      <td>UA</td>\n",
       "      <td>152 min</td>\n",
       "      <td>Action, Crime, Drama</td>\n",
       "      <td>9.0</td>\n",
       "      <td>When the menace known as the Joker wreaks havo...</td>\n",
       "      <td>84.0</td>\n",
       "      <td>Christopher Nolan</td>\n",
       "      <td>Christian Bale</td>\n",
       "      <td>Heath Ledger</td>\n",
       "      <td>Aaron Eckhart</td>\n",
       "      <td>Michael Caine</td>\n",
       "      <td>2303232</td>\n",
       "      <td>534,858,444</td>\n",
       "    </tr>\n",
       "    <tr>\n",
       "      <th>3</th>\n",
       "      <td>https://m.media-amazon.com/images/M/MV5BMWMwMG...</td>\n",
       "      <td>The Godfather: Part II</td>\n",
       "      <td>1974-01-01</td>\n",
       "      <td>A</td>\n",
       "      <td>202 min</td>\n",
       "      <td>Crime, Drama</td>\n",
       "      <td>9.0</td>\n",
       "      <td>The early life and career of Vito Corleone in ...</td>\n",
       "      <td>90.0</td>\n",
       "      <td>Francis Ford Coppola</td>\n",
       "      <td>Al Pacino</td>\n",
       "      <td>Robert De Niro</td>\n",
       "      <td>Robert Duvall</td>\n",
       "      <td>Diane Keaton</td>\n",
       "      <td>1129952</td>\n",
       "      <td>57,300,000</td>\n",
       "    </tr>\n",
       "    <tr>\n",
       "      <th>4</th>\n",
       "      <td>https://m.media-amazon.com/images/M/MV5BMWU4N2...</td>\n",
       "      <td>12 Angry Men</td>\n",
       "      <td>1957-01-01</td>\n",
       "      <td>U</td>\n",
       "      <td>96 min</td>\n",
       "      <td>Crime, Drama</td>\n",
       "      <td>9.0</td>\n",
       "      <td>A jury holdout attempts to prevent a miscarria...</td>\n",
       "      <td>96.0</td>\n",
       "      <td>Sidney Lumet</td>\n",
       "      <td>Henry Fonda</td>\n",
       "      <td>Lee J. Cobb</td>\n",
       "      <td>Martin Balsam</td>\n",
       "      <td>John Fiedler</td>\n",
       "      <td>689845</td>\n",
       "      <td>4,360,000</td>\n",
       "    </tr>\n",
       "  </tbody>\n",
       "</table>\n",
       "</div>"
      ],
      "text/plain": [
       "                                         Poster_Link  \\\n",
       "0  https://m.media-amazon.com/images/M/MV5BMDFkYT...   \n",
       "1  https://m.media-amazon.com/images/M/MV5BM2MyNj...   \n",
       "2  https://m.media-amazon.com/images/M/MV5BMTMxNT...   \n",
       "3  https://m.media-amazon.com/images/M/MV5BMWMwMG...   \n",
       "4  https://m.media-amazon.com/images/M/MV5BMWU4N2...   \n",
       "\n",
       "               Series_Title Released_Year Certificate  Runtime  \\\n",
       "0  The Shawshank Redemption    1994-01-01           A  142 min   \n",
       "1             The Godfather    1972-01-01           A  175 min   \n",
       "2           The Dark Knight    2008-01-01          UA  152 min   \n",
       "3    The Godfather: Part II    1974-01-01           A  202 min   \n",
       "4              12 Angry Men    1957-01-01           U   96 min   \n",
       "\n",
       "                  Genre  IMDB_Rating  \\\n",
       "0                 Drama          9.3   \n",
       "1          Crime, Drama          9.2   \n",
       "2  Action, Crime, Drama          9.0   \n",
       "3          Crime, Drama          9.0   \n",
       "4          Crime, Drama          9.0   \n",
       "\n",
       "                                            Overview  Meta_score  \\\n",
       "0  Two imprisoned men bond over a number of years...        80.0   \n",
       "1  An organized crime dynasty's aging patriarch t...       100.0   \n",
       "2  When the menace known as the Joker wreaks havo...        84.0   \n",
       "3  The early life and career of Vito Corleone in ...        90.0   \n",
       "4  A jury holdout attempts to prevent a miscarria...        96.0   \n",
       "\n",
       "               Director           Star1           Star2          Star3  \\\n",
       "0        Frank Darabont     Tim Robbins  Morgan Freeman     Bob Gunton   \n",
       "1  Francis Ford Coppola   Marlon Brando       Al Pacino     James Caan   \n",
       "2     Christopher Nolan  Christian Bale    Heath Ledger  Aaron Eckhart   \n",
       "3  Francis Ford Coppola       Al Pacino  Robert De Niro  Robert Duvall   \n",
       "4          Sidney Lumet     Henry Fonda     Lee J. Cobb  Martin Balsam   \n",
       "\n",
       "            Star4  No_of_Votes        Gross  \n",
       "0  William Sadler      2343110   28,341,469  \n",
       "1    Diane Keaton      1620367  134,966,411  \n",
       "2   Michael Caine      2303232  534,858,444  \n",
       "3    Diane Keaton      1129952   57,300,000  \n",
       "4    John Fiedler       689845    4,360,000  "
      ]
     },
     "execution_count": 133,
     "metadata": {},
     "output_type": "execute_result"
    }
   ],
   "source": [
    "# Create a mask to identify rows with valid years (to remove rows with invalid year values)\n",
    "valid_year_mask = movies_df['Released_Year'].str.match(r'^\\d{4}$')\n",
    "\n",
    "# Filter out rows with invalid years\n",
    "movies_df = movies_df[valid_year_mask]\n",
    "\n",
    "# Convert 'Released_Year' to datetime\n",
    "movies_df['Released_Year'] = pd.to_datetime(movies_df['Released_Year'] + '-01-01')\n",
    "\n",
    "# Print the updated DataFrame\n",
    "movies_df.head()\n"
   ]
  },
  {
   "cell_type": "code",
   "execution_count": null,
   "metadata": {},
   "outputs": [],
   "source": [
    "movies_df['Released_Year'] = pd.to_datetime(movies_df['Released_Year'])\n",
    "movies_df['Released_Year'] = movies_df['Released_Year'].dt.year"
   ]
  },
  {
   "cell_type": "code",
   "execution_count": null,
   "metadata": {},
   "outputs": [],
   "source": [
    "# drop unused columns\n",
    "movies_df.drop(['Certificate', 'Poster_Link'], axis=1, inplace=True)\n",
    "movies_df.shape"
   ]
  },
  {
   "cell_type": "code",
   "execution_count": null,
   "metadata": {},
   "outputs": [],
   "source": [
    "# String cleaning\n",
    "movies_df['Genre'] = movies_df['Genre'].str.strip().str.lower()\n",
    "print(movies_df['Genre'].head())"
   ]
  },
  {
   "cell_type": "code",
   "execution_count": null,
   "metadata": {},
   "outputs": [],
   "source": [
    "# correcting data types\n",
    "movies_df['Gross'] = movies_df['Gross'].str.replace(',', '').astype(float)\n",
    "movies_df"
   ]
  },
  {
   "cell_type": "markdown",
   "metadata": {},
   "source": [
    "### Analyzing the data"
   ]
  },
  {
   "cell_type": "code",
   "execution_count": 135,
   "metadata": {},
   "outputs": [
    {
     "data": {
      "text/plain": [
       "Genre\n",
       "Drama                     85\n",
       "Drama, Romance            37\n",
       "Comedy, Drama             35\n",
       "Comedy, Drama, Romance    31\n",
       "Action, Crime, Drama      30\n",
       "Name: count, dtype: int64"
      ]
     },
     "execution_count": 135,
     "metadata": {},
     "output_type": "execute_result"
    }
   ],
   "source": [
    "# Get genre count of top 5 most common genre\n",
    "movies_df['Genre'].value_counts().head(5)"
   ]
  },
  {
   "cell_type": "code",
   "execution_count": null,
   "metadata": {},
   "outputs": [],
   "source": [
    "# Show only movies with genre name Drama\n",
    "movies_df[movies_df['Genre'] == 'Drama']"
   ]
  },
  {
   "cell_type": "code",
   "execution_count": 137,
   "metadata": {},
   "outputs": [
    {
     "data": {
      "text/html": [
       "<div>\n",
       "<style scoped>\n",
       "    .dataframe tbody tr th:only-of-type {\n",
       "        vertical-align: middle;\n",
       "    }\n",
       "\n",
       "    .dataframe tbody tr th {\n",
       "        vertical-align: top;\n",
       "    }\n",
       "\n",
       "    .dataframe thead th {\n",
       "        text-align: right;\n",
       "    }\n",
       "</style>\n",
       "<table border=\"1\" class=\"dataframe\">\n",
       "  <thead>\n",
       "    <tr style=\"text-align: right;\">\n",
       "      <th></th>\n",
       "      <th>Poster_Link</th>\n",
       "      <th>Series_Title</th>\n",
       "      <th>Released_Year</th>\n",
       "      <th>Certificate</th>\n",
       "      <th>Runtime</th>\n",
       "      <th>Genre</th>\n",
       "      <th>IMDB_Rating</th>\n",
       "      <th>Overview</th>\n",
       "      <th>Meta_score</th>\n",
       "      <th>Director</th>\n",
       "      <th>Star1</th>\n",
       "      <th>Star2</th>\n",
       "      <th>Star3</th>\n",
       "      <th>Star4</th>\n",
       "      <th>No_of_Votes</th>\n",
       "      <th>Gross</th>\n",
       "    </tr>\n",
       "  </thead>\n",
       "  <tbody>\n",
       "    <tr>\n",
       "      <th>18</th>\n",
       "      <td>https://m.media-amazon.com/images/M/MV5BNjViNW...</td>\n",
       "      <td>Hamilton</td>\n",
       "      <td>2020-01-01</td>\n",
       "      <td>PG-13</td>\n",
       "      <td>160 min</td>\n",
       "      <td>Biography, Drama, History</td>\n",
       "      <td>8.6</td>\n",
       "      <td>The real life of one of America's foremost fou...</td>\n",
       "      <td>90.0</td>\n",
       "      <td>Thomas Kail</td>\n",
       "      <td>Lin-Manuel Miranda</td>\n",
       "      <td>Phillipa Soo</td>\n",
       "      <td>Leslie Odom Jr.</td>\n",
       "      <td>Renée Elise Goldsberry</td>\n",
       "      <td>55291</td>\n",
       "      <td>NaN</td>\n",
       "    </tr>\n",
       "    <tr>\n",
       "      <th>19</th>\n",
       "      <td>https://m.media-amazon.com/images/M/MV5BYWZjMj...</td>\n",
       "      <td>Gisaengchung</td>\n",
       "      <td>2019-01-01</td>\n",
       "      <td>A</td>\n",
       "      <td>132 min</td>\n",
       "      <td>Comedy, Drama, Thriller</td>\n",
       "      <td>8.6</td>\n",
       "      <td>Greed and class discrimination threaten the ne...</td>\n",
       "      <td>96.0</td>\n",
       "      <td>Bong Joon Ho</td>\n",
       "      <td>Kang-ho Song</td>\n",
       "      <td>Lee Sun-kyun</td>\n",
       "      <td>Cho Yeo-jeong</td>\n",
       "      <td>Choi Woo-sik</td>\n",
       "      <td>552778</td>\n",
       "      <td>53,367,844</td>\n",
       "    </tr>\n",
       "    <tr>\n",
       "      <th>20</th>\n",
       "      <td>https://m.media-amazon.com/images/M/MV5BOTc2ZT...</td>\n",
       "      <td>Soorarai Pottru</td>\n",
       "      <td>2020-01-01</td>\n",
       "      <td>U</td>\n",
       "      <td>153 min</td>\n",
       "      <td>Drama</td>\n",
       "      <td>8.6</td>\n",
       "      <td>Nedumaaran Rajangam \"Maara\" sets out to make t...</td>\n",
       "      <td>NaN</td>\n",
       "      <td>Sudha Kongara</td>\n",
       "      <td>Suriya</td>\n",
       "      <td>Madhavan</td>\n",
       "      <td>Paresh Rawal</td>\n",
       "      <td>Aparna Balamurali</td>\n",
       "      <td>54995</td>\n",
       "      <td>NaN</td>\n",
       "    </tr>\n",
       "    <tr>\n",
       "      <th>33</th>\n",
       "      <td>https://m.media-amazon.com/images/M/MV5BNGVjNW...</td>\n",
       "      <td>Joker</td>\n",
       "      <td>2019-01-01</td>\n",
       "      <td>A</td>\n",
       "      <td>122 min</td>\n",
       "      <td>Crime, Drama, Thriller</td>\n",
       "      <td>8.5</td>\n",
       "      <td>In Gotham City, mentally troubled comedian Art...</td>\n",
       "      <td>59.0</td>\n",
       "      <td>Todd Phillips</td>\n",
       "      <td>Joaquin Phoenix</td>\n",
       "      <td>Robert De Niro</td>\n",
       "      <td>Zazie Beetz</td>\n",
       "      <td>Frances Conroy</td>\n",
       "      <td>939252</td>\n",
       "      <td>335,451,311</td>\n",
       "    </tr>\n",
       "    <tr>\n",
       "      <th>53</th>\n",
       "      <td>https://m.media-amazon.com/images/M/MV5BMmExNz...</td>\n",
       "      <td>Capharnaüm</td>\n",
       "      <td>2018-01-01</td>\n",
       "      <td>A</td>\n",
       "      <td>126 min</td>\n",
       "      <td>Drama</td>\n",
       "      <td>8.4</td>\n",
       "      <td>While serving a five-year sentence for a viole...</td>\n",
       "      <td>75.0</td>\n",
       "      <td>Nadine Labaki</td>\n",
       "      <td>Zain Al Rafeea</td>\n",
       "      <td>Yordanos Shiferaw</td>\n",
       "      <td>Boluwatife Treasure Bankole</td>\n",
       "      <td>Kawsar Al Haddad</td>\n",
       "      <td>62635</td>\n",
       "      <td>1,661,096</td>\n",
       "    </tr>\n",
       "  </tbody>\n",
       "</table>\n",
       "</div>"
      ],
      "text/plain": [
       "                                          Poster_Link     Series_Title  \\\n",
       "18  https://m.media-amazon.com/images/M/MV5BNjViNW...         Hamilton   \n",
       "19  https://m.media-amazon.com/images/M/MV5BYWZjMj...     Gisaengchung   \n",
       "20  https://m.media-amazon.com/images/M/MV5BOTc2ZT...  Soorarai Pottru   \n",
       "33  https://m.media-amazon.com/images/M/MV5BNGVjNW...            Joker   \n",
       "53  https://m.media-amazon.com/images/M/MV5BMmExNz...       Capharnaüm   \n",
       "\n",
       "   Released_Year Certificate  Runtime                      Genre  IMDB_Rating  \\\n",
       "18    2020-01-01       PG-13  160 min  Biography, Drama, History          8.6   \n",
       "19    2019-01-01           A  132 min    Comedy, Drama, Thriller          8.6   \n",
       "20    2020-01-01           U  153 min                      Drama          8.6   \n",
       "33    2019-01-01           A  122 min     Crime, Drama, Thriller          8.5   \n",
       "53    2018-01-01           A  126 min                      Drama          8.4   \n",
       "\n",
       "                                             Overview  Meta_score  \\\n",
       "18  The real life of one of America's foremost fou...        90.0   \n",
       "19  Greed and class discrimination threaten the ne...        96.0   \n",
       "20  Nedumaaran Rajangam \"Maara\" sets out to make t...         NaN   \n",
       "33  In Gotham City, mentally troubled comedian Art...        59.0   \n",
       "53  While serving a five-year sentence for a viole...        75.0   \n",
       "\n",
       "         Director               Star1              Star2  \\\n",
       "18    Thomas Kail  Lin-Manuel Miranda       Phillipa Soo   \n",
       "19   Bong Joon Ho        Kang-ho Song       Lee Sun-kyun   \n",
       "20  Sudha Kongara              Suriya           Madhavan   \n",
       "33  Todd Phillips     Joaquin Phoenix     Robert De Niro   \n",
       "53  Nadine Labaki      Zain Al Rafeea  Yordanos Shiferaw   \n",
       "\n",
       "                          Star3                   Star4  No_of_Votes  \\\n",
       "18              Leslie Odom Jr.  Renée Elise Goldsberry        55291   \n",
       "19                Cho Yeo-jeong            Choi Woo-sik       552778   \n",
       "20                 Paresh Rawal       Aparna Balamurali        54995   \n",
       "33                  Zazie Beetz          Frances Conroy       939252   \n",
       "53  Boluwatife Treasure Bankole        Kawsar Al Haddad        62635   \n",
       "\n",
       "          Gross  \n",
       "18          NaN  \n",
       "19   53,367,844  \n",
       "20          NaN  \n",
       "33  335,451,311  \n",
       "53    1,661,096  "
      ]
     },
     "execution_count": 137,
     "metadata": {},
     "output_type": "execute_result"
    }
   ],
   "source": [
    "# Get movies with released after 2015\n",
    "cutoff_date = pd.to_datetime('2015-01-01')\n",
    "after_year = movies_df['Released_Year'] > cutoff_date\n",
    "movies_df[after_year].head(5) #display only 5 rows"
   ]
  },
  {
   "cell_type": "code",
   "execution_count": null,
   "metadata": {},
   "outputs": [],
   "source": [
    "#movie with highest votes\n",
    "# Sort the DataFrame by 'Number of Votes' column in descending order\n",
    "movies_sorted_by_votes = movies_df_clean.sort_values(by='No_of_Votes', ascending=False)\n",
    "\n",
    "# Get the top 5 movies with the most votes\n",
    "top_movies_by_votes = movies_sorted_by_votes.head(5)\n",
    "\n",
    "# Print the top movies with the most votes\n",
    "print(\"Top 5 movies with the most votes:\")\n",
    "display(top_movies_by_votes)\n",
    "\n"
   ]
  },
  {
   "cell_type": "code",
   "execution_count": null,
   "metadata": {},
   "outputs": [],
   "source": [
    "#which movies have the longest runtime\n",
    "# Find the movie with the longest runtime\n",
    "movie_longest_runtime = movies_df_clean.nlargest(1, 'Runtime')\n",
    "\n",
    "# Print the movie details\n",
    "print(\"Movie with the longest runtime:\")\n",
    "movie_longest_runtime\n"
   ]
  },
  {
   "cell_type": "code",
   "execution_count": null,
   "metadata": {},
   "outputs": [],
   "source": [
    "#movie with shortest runtime\n",
    "# Find the movie with the shortest runtime\n",
    "movie_shortest_runtime = movies_df_clean.nsmallest(1, 'Runtime')\n",
    "\n",
    "# Print the movie details\n",
    "print(\"Movie with the shortest runtime:\")\n",
    "movie_shortest_runtime\n"
   ]
  },
  {
   "cell_type": "code",
   "execution_count": 134,
   "metadata": {},
   "outputs": [
    {
     "data": {
      "text/plain": [
       "Released_Year\n",
       "1920-01-01     1\n",
       "1921-01-01     1\n",
       "1922-01-01     1\n",
       "1924-01-01     1\n",
       "1925-01-01     2\n",
       "1926-01-01     1\n",
       "1927-01-01     2\n",
       "1928-01-01     2\n",
       "1930-01-01     1\n",
       "1931-01-01     3\n",
       "1932-01-01     2\n",
       "1933-01-01     3\n",
       "1934-01-01     2\n",
       "1935-01-01     3\n",
       "1936-01-01     1\n",
       "1937-01-01     1\n",
       "1938-01-01     3\n",
       "1939-01-01     5\n",
       "1940-01-01     7\n",
       "1941-01-01     2\n",
       "1942-01-01     3\n",
       "1943-01-01     1\n",
       "1944-01-01     4\n",
       "1945-01-01     2\n",
       "1946-01-01     5\n",
       "1947-01-01     2\n",
       "1948-01-01     6\n",
       "1949-01-01     3\n",
       "1950-01-01     5\n",
       "1951-01-01     5\n",
       "1952-01-01     4\n",
       "1953-01-01     5\n",
       "1954-01-01     6\n",
       "1955-01-01     6\n",
       "1956-01-01     5\n",
       "1957-01-01     9\n",
       "1958-01-01     4\n",
       "1959-01-01     7\n",
       "1960-01-01    11\n",
       "1961-01-01     5\n",
       "1962-01-01    13\n",
       "1963-01-01     5\n",
       "1964-01-01     7\n",
       "1965-01-01     4\n",
       "1966-01-01     7\n",
       "1967-01-01    10\n",
       "1968-01-01     8\n",
       "1969-01-01     3\n",
       "1970-01-01     3\n",
       "1971-01-01     9\n",
       "1972-01-01     8\n",
       "1973-01-01    12\n",
       "1974-01-01     6\n",
       "1975-01-01     9\n",
       "1976-01-01     7\n",
       "1977-01-01     3\n",
       "1978-01-01     7\n",
       "1979-01-01    12\n",
       "1980-01-01     8\n",
       "1981-01-01     4\n",
       "1982-01-01    11\n",
       "1983-01-01     5\n",
       "1984-01-01     9\n",
       "1985-01-01     9\n",
       "1986-01-01     9\n",
       "1987-01-01    12\n",
       "1988-01-01    11\n",
       "1989-01-01    11\n",
       "1990-01-01     8\n",
       "1991-01-01    12\n",
       "1992-01-01    12\n",
       "1993-01-01    23\n",
       "1994-01-01    13\n",
       "1995-01-01    19\n",
       "1996-01-01    10\n",
       "1997-01-01    19\n",
       "1998-01-01    17\n",
       "1999-01-01    17\n",
       "2000-01-01    19\n",
       "2001-01-01    27\n",
       "2002-01-01    19\n",
       "2003-01-01    22\n",
       "2004-01-01    31\n",
       "2005-01-01    17\n",
       "2006-01-01    26\n",
       "2007-01-01    26\n",
       "2008-01-01    21\n",
       "2009-01-01    29\n",
       "2010-01-01    23\n",
       "2011-01-01    18\n",
       "2012-01-01    24\n",
       "2013-01-01    28\n",
       "2014-01-01    32\n",
       "2015-01-01    25\n",
       "2016-01-01    28\n",
       "2017-01-01    22\n",
       "2018-01-01    19\n",
       "2019-01-01    23\n",
       "2020-01-01     6\n",
       "Name: Series_Title, dtype: int64"
      ]
     },
     "execution_count": 134,
     "metadata": {},
     "output_type": "execute_result"
    }
   ],
   "source": [
    "# determine which year had the most released movies\n",
    "best_year = movies_df.groupby('Released_Year').count()['Series_Title']\n",
    "#best_year.shape\n",
    "pd.set_option('display.max_rows', None)\n",
    "best_year\n",
    "#pd.reset_option('diplay.max_rows')"
   ]
  },
  {
   "cell_type": "code",
   "execution_count": null,
   "metadata": {},
   "outputs": [],
   "source": [
    "# which movies had the hishgest gross\n",
    "max_gross_index = movies_df['Gross'].idxmax() #get index of movie with highest gross\n",
    "movie_with_highest_gross = movies_df.loc[max_gross_index, 'Series_Title']\n",
    "print(movie_with_highest_gross)"
   ]
  },
  {
   "cell_type": "code",
   "execution_count": null,
   "metadata": {},
   "outputs": [],
   "source": [
    "# Grouping the movies and looking at \n",
    "genre_group = movies_df.groupby('Genre').agg({'IMDB_Rating': 'mean', 'Gross': 'sum'})\n",
    "print(genre_group)"
   ]
  },
  {
   "cell_type": "markdown",
   "metadata": {},
   "source": [
    "### Merging Files example"
   ]
  },
  {
   "cell_type": "code",
   "execution_count": null,
   "metadata": {},
   "outputs": [],
   "source": [
    "# loading new datasets\n",
    "df1 = pd.read_csv(\"tmdb_5000_credits.csv\")\n",
    "df2 = pd.read_csv(\"tmdb_5000_movies.csv\")\n",
    "df1.info()"
   ]
  },
  {
   "cell_type": "code",
   "execution_count": null,
   "metadata": {},
   "outputs": [],
   "source": [
    "df2.info()"
   ]
  },
  {
   "cell_type": "code",
   "execution_count": null,
   "metadata": {},
   "outputs": [],
   "source": [
    "df1.columns = ['id', 'title', 'cast', 'crew']\n",
    "df2 = df2.merge(df1, on='id')\n",
    "df2.info()"
   ]
  },
  {
   "cell_type": "code",
   "execution_count": null,
   "metadata": {},
   "outputs": [],
   "source": [
    "# Look at the new data\n",
    "df2.head(5)"
   ]
  },
  {
   "cell_type": "code",
   "execution_count": null,
   "metadata": {},
   "outputs": [],
   "source": [
    "# look at mean voting average\n",
    "c = df2['vote_average'].mean()\n",
    "c\n",
    "#so most movies in this list is approx a 6 out of 10 rating"
   ]
  },
  {
   "cell_type": "code",
   "execution_count": null,
   "metadata": {},
   "outputs": [],
   "source": [
    "# lets get only movies that have a certain number of votes so movies with only 3 votes aren't included\n",
    "m = df2['vote_count'].quantile(0.9)\n",
    "qualify_movies = df2.copy().loc[df2['vote_count'] >= m] # make a new DataFrame\n",
    "qualify_movies.shape #481 movies out of the 5000 movies qualify"
   ]
  },
  {
   "cell_type": "code",
   "execution_count": null,
   "metadata": {},
   "outputs": [],
   "source": [
    "def weighted_rating(x, m=m, c=c):\n",
    "    v = x['vote_count']\n",
    "    R = x['vote_average']\n",
    "    # Calculation based on the IMDB formula\n",
    "    return (v/(v+m) * R) + (m/(m+v) * c)\n",
    "\n",
    "qualify_movies['score'] = qualify_movies.apply(weighted_rating, axis=1)\n",
    "qualify_movies = qualify_movies.sort_values('score', ascending=False)\n",
    "qualify_movies[['title', 'vote_count', 'vote_average', 'score']].head(10)"
   ]
  }
 ],
 "metadata": {
  "kernelspec": {
   "display_name": "MY-ENV",
   "language": "python",
   "name": "python3"
  },
  "language_info": {
   "codemirror_mode": {
    "name": "ipython",
    "version": 3
   },
   "file_extension": ".py",
   "mimetype": "text/x-python",
   "name": "python",
   "nbconvert_exporter": "python",
   "pygments_lexer": "ipython3",
   "version": "3.12.3"
  }
 },
 "nbformat": 4,
 "nbformat_minor": 2
}
