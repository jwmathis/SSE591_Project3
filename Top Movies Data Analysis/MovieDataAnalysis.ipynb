{
 "cells": [
  {
   "cell_type": "markdown",
   "metadata": {},
   "source": [
    "## Analyzing a Movie Dataset"
   ]
  },
  {
   "cell_type": "markdown",
   "metadata": {},
   "source": [
    "### Getting general information about the dataset"
   ]
  },
  {
   "cell_type": "code",
   "execution_count": null,
   "metadata": {},
   "outputs": [],
   "source": [
    "# Loading the dataset\n",
    "import pandas as pd\n",
    "import numpy as np\n",
    "\n",
    "movies_df = pd.read_csv(\"imdb_top_1000.csv\")\n",
    "\n",
    "# Print first few rows of the dataset\n",
    "movies_df.head()\n"
   ]
  },
  {
   "cell_type": "code",
   "execution_count": null,
   "metadata": {},
   "outputs": [],
   "source": [
    "# Get general information about the dataframe\n",
    "movies_df.info()"
   ]
  },
  {
   "cell_type": "code",
   "execution_count": null,
   "metadata": {},
   "outputs": [],
   "source": [
    "# Summary statistics of numerical columns\n",
    "movies_df.describe()\n",
    "# for this dataset, it doesn't tell me too much"
   ]
  },
  {
   "cell_type": "code",
   "execution_count": null,
   "metadata": {},
   "outputs": [],
   "source": [
    "movies_df.set_index('Series_Title', inplace=True) # Change index to be Title column\n",
    "movies_df.head(4)"
   ]
  },
  {
   "cell_type": "code",
   "execution_count": null,
   "metadata": {},
   "outputs": [],
   "source": [
    "movies_df.tail(10)"
   ]
  },
  {
   "cell_type": "code",
   "execution_count": null,
   "metadata": {},
   "outputs": [],
   "source": [
    "# Add a 'Rank' column\n",
    "movies_df['Rank'] = range(1, len(movies_df) + 1)\n",
    "movies_df.info()"
   ]
  },
  {
   "cell_type": "markdown",
   "metadata": {},
   "source": [
    "### Cleaning up the dataset"
   ]
  },
  {
   "cell_type": "markdown",
   "metadata": {},
   "source": [
    "*Let's move the 'Rank' column to the top*"
   ]
  },
  {
   "cell_type": "code",
   "execution_count": null,
   "metadata": {},
   "outputs": [],
   "source": [
    "# get list of column names\n",
    "new_columns = list(movies_df.columns)\n",
    "# remove the 'Rank' column from the list\n",
    "new_columns.remove('Rank')\n",
    "# insert 'Rank' column at specified index\n",
    "new_columns.insert(0, 'Rank')\n",
    "# Reorder the DataFrame Columns\n",
    "movies_df = movies_df[new_columns]\n",
    "# Check DataFrame info\n",
    "movies_df.info()"
   ]
  },
  {
   "cell_type": "code",
   "execution_count": null,
   "metadata": {},
   "outputs": [],
   "source": [
    "# Sorting the data by ratings\n",
    "movies_df = movies_df.sort_values(by='IMDB_Rating', ascending=False)\n",
    "\n",
    "movies_df.reset_index(inplace=True)\n",
    "\n",
    "movies_df.set_index('Rank', inplace=True)\n",
    "\n",
    "movies_df"
   ]
  },
  {
   "cell_type": "code",
   "execution_count": null,
   "metadata": {},
   "outputs": [],
   "source": [
    "movies_df.shape"
   ]
  },
  {
   "cell_type": "code",
   "execution_count": null,
   "metadata": {},
   "outputs": [],
   "source": [
    "movies_df.size"
   ]
  },
  {
   "cell_type": "code",
   "execution_count": null,
   "metadata": {},
   "outputs": [],
   "source": [
    "movies_df.sort_index().head()"
   ]
  },
  {
   "cell_type": "code",
   "execution_count": null,
   "metadata": {},
   "outputs": [],
   "source": [
    "# Handling missing data\n",
    "print(movies_df.isnull().sum())"
   ]
  },
  {
   "cell_type": "code",
   "execution_count": null,
   "metadata": {},
   "outputs": [],
   "source": [
    "#movies_df.fillna(0)\n",
    "#print(movies_df.isna().sum())\n",
    "#lets remove rows with null data\n",
    "movies_df_clean = movies_df.dropna()\n",
    "movies_df_clean.info()"
   ]
  },
  {
   "cell_type": "code",
   "execution_count": null,
   "metadata": {},
   "outputs": [],
   "source": [
    "sum(movies_df.duplicated())"
   ]
  },
  {
   "cell_type": "code",
   "execution_count": null,
   "metadata": {},
   "outputs": [],
   "source": [
    "# convert gross to numeric type coerce errors to NaN for non numeric values\n",
    "movies_df_clean['Gross'] = pd.to_numeric(movies_df_clean['Gross'], errors='coerce')\n",
    "movies_df_clean.info()"
   ]
  },
  {
   "cell_type": "code",
   "execution_count": null,
   "metadata": {},
   "outputs": [],
   "source": [
    "movies_df_clean['Runtime'] = movies_df_clean['Runtime'].str.replace(' min', '')\n",
    "# Convert the 'Runtime' column to numeric type\n",
    "movies_df_clean['Runtime'] = pd.to_numeric(movies_df_clean['Runtime'], errors='coerce')\n",
    "movies_df_clean.head()"
   ]
  },
  {
   "cell_type": "code",
   "execution_count": null,
   "metadata": {},
   "outputs": [],
   "source": [
    "# drop rows with missing gross data\n",
    "movies_df.dropna(subset=['Gross'], inplace=True)\n",
    "movies_df"
   ]
  },
  {
   "cell_type": "code",
   "execution_count": null,
   "metadata": {},
   "outputs": [],
   "source": [
    "movies_df['Released_Year'] = pd.to_datetime(movies_df['Released_Year'])\n",
    "movies_df.head()\n",
    "# doesnt work because dont have the full date only the year"
   ]
  },
  {
   "cell_type": "code",
   "execution_count": null,
   "metadata": {},
   "outputs": [],
   "source": [
    "movies_df['Released_Year'] = pd.to_datetime(movies_df['Released_Year'] + '-01-01')\n",
    "movies_df.head()"
   ]
  },
  {
   "cell_type": "code",
   "execution_count": null,
   "metadata": {},
   "outputs": [],
   "source": [
    "movies_df['Released_Year'] = pd.to_datetime(movies_df['Released_Year'])\n",
    "movies_df['Released_Year'] = movies_df['Released_Year'].dt.year"
   ]
  },
  {
   "cell_type": "code",
   "execution_count": null,
   "metadata": {},
   "outputs": [],
   "source": [
    "# drop unused columns\n",
    "movies_df.drop(['Certificate', 'Poster_Link'], axis=1, inplace=True)\n",
    "movies_df.shape"
   ]
  },
  {
   "cell_type": "code",
   "execution_count": null,
   "metadata": {},
   "outputs": [],
   "source": [
    "# String cleaning\n",
    "movies_df['Genre'] = movies_df['Genre'].str.strip().str.lower()\n",
    "print(movies_df['Genre'].head())"
   ]
  },
  {
   "cell_type": "code",
   "execution_count": null,
   "metadata": {},
   "outputs": [],
   "source": [
    "# correcting data types\n",
    "movies_df['Gross'] = movies_df['Gross'].str.replace(',', '').astype(float)\n",
    "movies_df"
   ]
  },
  {
   "cell_type": "markdown",
   "metadata": {},
   "source": [
    "### Analyzing the data"
   ]
  },
  {
   "cell_type": "code",
   "execution_count": null,
   "metadata": {},
   "outputs": [],
   "source": [
    "# Get genre count \n",
    "movies_df['Genre'].value_counts().head(40)"
   ]
  },
  {
   "cell_type": "code",
   "execution_count": null,
   "metadata": {},
   "outputs": [],
   "source": [
    "# Show only movies with genre name Drama\n",
    "movies_df[movies_df['Genre'] == 'Drama']"
   ]
  },
  {
   "cell_type": "code",
   "execution_count": null,
   "metadata": {},
   "outputs": [],
   "source": [
    "# Get movies with released after 2015\n",
    "after_year = movies_df['Released_Year'] > '2015'\n",
    "movies_df[after_year]"
   ]
  },
  {
   "cell_type": "code",
   "execution_count": null,
   "metadata": {},
   "outputs": [],
   "source": [
    "print(movies_df_clean['Runtime'].dtype) # checking runtime datatype"
   ]
  },
  {
   "cell_type": "code",
   "execution_count": null,
   "metadata": {},
   "outputs": [],
   "source": [
    "#movie with highest votes\n",
    "# Sort the DataFrame by 'Number of Votes' column in descending order\n",
    "movies_sorted_by_votes = movies_df_clean.sort_values(by='No_of_Votes', ascending=False)\n",
    "\n",
    "# Get the top 5 movies with the most votes\n",
    "top_movies_by_votes = movies_sorted_by_votes.head(5)\n",
    "\n",
    "# Print the top movies with the most votes\n",
    "print(\"Top 5 movies with the most votes:\")\n",
    "display(top_movies_by_votes)\n",
    "\n"
   ]
  },
  {
   "cell_type": "code",
   "execution_count": null,
   "metadata": {},
   "outputs": [],
   "source": [
    "#which movies have the longest runtime\n",
    "# Find the movie with the longest runtime\n",
    "movie_longest_runtime = movies_df_clean.nlargest(1, 'Runtime')\n",
    "\n",
    "# Print the movie details\n",
    "print(\"Movie with the longest runtime:\")\n",
    "movie_longest_runtime\n"
   ]
  },
  {
   "cell_type": "code",
   "execution_count": null,
   "metadata": {},
   "outputs": [],
   "source": [
    "#movie with shortest runtime\n",
    "# Find the movie with the shortest runtime\n",
    "movie_shortest_runtime = movies_df_clean.nsmallest(1, 'Runtime')\n",
    "\n",
    "# Print the movie details\n",
    "print(\"Movie with the shortest runtime:\")\n",
    "movie_shortest_runtime\n"
   ]
  },
  {
   "cell_type": "code",
   "execution_count": null,
   "metadata": {},
   "outputs": [],
   "source": [
    "# determine which year had the most released movies\n",
    "best_year = movies_df.groupby('Released_Year').count()['Series_Title']\n",
    "#best_year.shape\n",
    "pd.set_option('display.max_rows', None)\n",
    "best_year\n",
    "#pd.reset_option('diplay.max_rows')"
   ]
  },
  {
   "cell_type": "code",
   "execution_count": null,
   "metadata": {},
   "outputs": [],
   "source": [
    "# which movies had the hishgest gross\n",
    "max_gross_index = movies_df['Gross'].idxmax() #get index of movie with highest gross\n",
    "movie_with_highest_gross = movies_df.loc[max_gross_index, 'Series_Title']\n",
    "print(movie_with_highest_gross)"
   ]
  },
  {
   "cell_type": "code",
   "execution_count": null,
   "metadata": {},
   "outputs": [],
   "source": [
    "# Grouping the movies and looking at \n",
    "genre_group = movies_df.groupby('Genre').agg({'IMDB_Rating': 'mean', 'Gross': 'sum'})\n",
    "print(genre_group)"
   ]
  },
  {
   "cell_type": "markdown",
   "metadata": {},
   "source": [
    "Merging Files example"
   ]
  },
  {
   "cell_type": "code",
   "execution_count": null,
   "metadata": {},
   "outputs": [],
   "source": [
    "# loading new datasets\n",
    "df1 = pd.read_csv(\"tmdb_5000_credits.csv\")\n",
    "df2 = pd.read_csv(\"tmdb_5000_movies.csv\")\n",
    "df1.info()"
   ]
  },
  {
   "cell_type": "code",
   "execution_count": null,
   "metadata": {},
   "outputs": [],
   "source": [
    "df2.info()"
   ]
  },
  {
   "cell_type": "code",
   "execution_count": null,
   "metadata": {},
   "outputs": [],
   "source": [
    "df1.columns = ['id', 'title', 'cast', 'crew']\n",
    "df2 = df2.merge(df1, on='id')\n",
    "df2.info()"
   ]
  },
  {
   "cell_type": "code",
   "execution_count": null,
   "metadata": {},
   "outputs": [],
   "source": [
    "# Look at the new data\n",
    "df2.head(5)"
   ]
  },
  {
   "cell_type": "code",
   "execution_count": null,
   "metadata": {},
   "outputs": [],
   "source": [
    "# look at mean voting average\n",
    "c = df2['vote_average'].mean()\n",
    "c\n",
    "#so most movies in this list is approx a 6 out of 10 rating"
   ]
  },
  {
   "cell_type": "code",
   "execution_count": null,
   "metadata": {},
   "outputs": [],
   "source": [
    "# lets get only movies that have a certain number of votes so movies with only 3 votes aren't included\n",
    "m = df2['vote_count'].quantile(0.9)\n",
    "qualify_movies = df2.copy().loc[df2['vote_count'] >= m] # make a new DataFrame\n",
    "qualify_movies.shape #481 movies out of the 5000 movies qualify"
   ]
  },
  {
   "cell_type": "code",
   "execution_count": null,
   "metadata": {},
   "outputs": [],
   "source": [
    "def weighted_rating(x, m=m, c=c):\n",
    "    v = x['vote_count']\n",
    "    R = x['vote_average']\n",
    "    # Calculation based on the IMDB formula\n",
    "    return (v/(v+m) * R) + (m/(m+v) * c)\n",
    "\n",
    "qualify_movies['score'] = qualify_movies.apply(weighted_rating, axis=1)\n",
    "qualify_movies = qualify_movies.sort_values('score', ascending=False)\n",
    "qualify_movies[['title', 'vote_count', 'vote_average', 'score']].head(10)"
   ]
  }
 ],
 "metadata": {
  "kernelspec": {
   "display_name": "MY-ENV",
   "language": "python",
   "name": "python3"
  },
  "language_info": {
   "codemirror_mode": {
    "name": "ipython",
    "version": 3
   },
   "file_extension": ".py",
   "mimetype": "text/x-python",
   "name": "python",
   "nbconvert_exporter": "python",
   "pygments_lexer": "ipython3",
   "version": "3.12.3"
  }
 },
 "nbformat": 4,
 "nbformat_minor": 2
}
